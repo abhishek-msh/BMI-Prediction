{
 "cells": [
  {
   "cell_type": "code",
   "execution_count": 1,
   "id": "acting-neutral",
   "metadata": {},
   "outputs": [],
   "source": [
    "import warnings\n",
    "\n",
    "warnings.filterwarnings('ignore')"
   ]
  },
  {
   "cell_type": "code",
   "execution_count": 2,
   "id": "important-messaging",
   "metadata": {},
   "outputs": [],
   "source": [
    "import pandas as pd\n",
    "import numpy as np"
   ]
  },
  {
   "cell_type": "code",
   "execution_count": 3,
   "id": "signed-remove",
   "metadata": {},
   "outputs": [
    {
     "data": {
      "text/html": [
       "<div>\n",
       "<style scoped>\n",
       "    .dataframe tbody tr th:only-of-type {\n",
       "        vertical-align: middle;\n",
       "    }\n",
       "\n",
       "    .dataframe tbody tr th {\n",
       "        vertical-align: top;\n",
       "    }\n",
       "\n",
       "    .dataframe thead th {\n",
       "        text-align: right;\n",
       "    }\n",
       "</style>\n",
       "<table border=\"1\" class=\"dataframe\">\n",
       "  <thead>\n",
       "    <tr style=\"text-align: right;\">\n",
       "      <th></th>\n",
       "      <th>Gender</th>\n",
       "      <th>Height</th>\n",
       "      <th>Weight</th>\n",
       "      <th>Index</th>\n",
       "    </tr>\n",
       "  </thead>\n",
       "  <tbody>\n",
       "    <tr>\n",
       "      <th>0</th>\n",
       "      <td>Male</td>\n",
       "      <td>174</td>\n",
       "      <td>96</td>\n",
       "      <td>4</td>\n",
       "    </tr>\n",
       "    <tr>\n",
       "      <th>1</th>\n",
       "      <td>Male</td>\n",
       "      <td>189</td>\n",
       "      <td>87</td>\n",
       "      <td>2</td>\n",
       "    </tr>\n",
       "    <tr>\n",
       "      <th>2</th>\n",
       "      <td>Female</td>\n",
       "      <td>185</td>\n",
       "      <td>110</td>\n",
       "      <td>4</td>\n",
       "    </tr>\n",
       "    <tr>\n",
       "      <th>3</th>\n",
       "      <td>Female</td>\n",
       "      <td>195</td>\n",
       "      <td>104</td>\n",
       "      <td>3</td>\n",
       "    </tr>\n",
       "    <tr>\n",
       "      <th>4</th>\n",
       "      <td>Male</td>\n",
       "      <td>149</td>\n",
       "      <td>61</td>\n",
       "      <td>3</td>\n",
       "    </tr>\n",
       "  </tbody>\n",
       "</table>\n",
       "</div>"
      ],
      "text/plain": [
       "   Gender  Height  Weight  Index\n",
       "0    Male     174      96      4\n",
       "1    Male     189      87      2\n",
       "2  Female     185     110      4\n",
       "3  Female     195     104      3\n",
       "4    Male     149      61      3"
      ]
     },
     "execution_count": 3,
     "metadata": {},
     "output_type": "execute_result"
    }
   ],
   "source": [
    "data = pd.read_csv(\"C:BMI.csv\")\n",
    "data.head()"
   ]
  },
  {
   "cell_type": "code",
   "execution_count": 4,
   "id": "driving-launch",
   "metadata": {},
   "outputs": [
    {
     "name": "stdout",
     "output_type": "stream",
     "text": [
      "<class 'pandas.core.frame.DataFrame'>\n",
      "RangeIndex: 500 entries, 0 to 499\n",
      "Data columns (total 4 columns):\n",
      " #   Column  Non-Null Count  Dtype \n",
      "---  ------  --------------  ----- \n",
      " 0   Gender  500 non-null    object\n",
      " 1   Height  500 non-null    int64 \n",
      " 2   Weight  500 non-null    int64 \n",
      " 3   Index   500 non-null    int64 \n",
      "dtypes: int64(3), object(1)\n",
      "memory usage: 15.8+ KB\n"
     ]
    }
   ],
   "source": [
    "data.info()"
   ]
  },
  {
   "cell_type": "code",
   "execution_count": 5,
   "id": "extra-testimony",
   "metadata": {},
   "outputs": [
    {
     "data": {
      "text/html": [
       "<div>\n",
       "<style scoped>\n",
       "    .dataframe tbody tr th:only-of-type {\n",
       "        vertical-align: middle;\n",
       "    }\n",
       "\n",
       "    .dataframe tbody tr th {\n",
       "        vertical-align: top;\n",
       "    }\n",
       "\n",
       "    .dataframe thead th {\n",
       "        text-align: right;\n",
       "    }\n",
       "</style>\n",
       "<table border=\"1\" class=\"dataframe\">\n",
       "  <thead>\n",
       "    <tr style=\"text-align: right;\">\n",
       "      <th></th>\n",
       "      <th>Height</th>\n",
       "      <th>Weight</th>\n",
       "      <th>Index</th>\n",
       "    </tr>\n",
       "  </thead>\n",
       "  <tbody>\n",
       "    <tr>\n",
       "      <th>count</th>\n",
       "      <td>500.000000</td>\n",
       "      <td>500.000000</td>\n",
       "      <td>500.000000</td>\n",
       "    </tr>\n",
       "    <tr>\n",
       "      <th>mean</th>\n",
       "      <td>169.944000</td>\n",
       "      <td>106.000000</td>\n",
       "      <td>3.748000</td>\n",
       "    </tr>\n",
       "    <tr>\n",
       "      <th>std</th>\n",
       "      <td>16.375261</td>\n",
       "      <td>32.382607</td>\n",
       "      <td>1.355053</td>\n",
       "    </tr>\n",
       "    <tr>\n",
       "      <th>min</th>\n",
       "      <td>140.000000</td>\n",
       "      <td>50.000000</td>\n",
       "      <td>0.000000</td>\n",
       "    </tr>\n",
       "    <tr>\n",
       "      <th>25%</th>\n",
       "      <td>156.000000</td>\n",
       "      <td>80.000000</td>\n",
       "      <td>3.000000</td>\n",
       "    </tr>\n",
       "    <tr>\n",
       "      <th>50%</th>\n",
       "      <td>170.500000</td>\n",
       "      <td>106.000000</td>\n",
       "      <td>4.000000</td>\n",
       "    </tr>\n",
       "    <tr>\n",
       "      <th>75%</th>\n",
       "      <td>184.000000</td>\n",
       "      <td>136.000000</td>\n",
       "      <td>5.000000</td>\n",
       "    </tr>\n",
       "    <tr>\n",
       "      <th>max</th>\n",
       "      <td>199.000000</td>\n",
       "      <td>160.000000</td>\n",
       "      <td>5.000000</td>\n",
       "    </tr>\n",
       "  </tbody>\n",
       "</table>\n",
       "</div>"
      ],
      "text/plain": [
       "           Height      Weight       Index\n",
       "count  500.000000  500.000000  500.000000\n",
       "mean   169.944000  106.000000    3.748000\n",
       "std     16.375261   32.382607    1.355053\n",
       "min    140.000000   50.000000    0.000000\n",
       "25%    156.000000   80.000000    3.000000\n",
       "50%    170.500000  106.000000    4.000000\n",
       "75%    184.000000  136.000000    5.000000\n",
       "max    199.000000  160.000000    5.000000"
      ]
     },
     "execution_count": 5,
     "metadata": {},
     "output_type": "execute_result"
    }
   ],
   "source": [
    "data.describe()"
   ]
  },
  {
   "cell_type": "code",
   "execution_count": 6,
   "id": "adult-timer",
   "metadata": {},
   "outputs": [],
   "source": [
    "from sklearn.preprocessing import LabelEncoder\n",
    "\n",
    "data[\"Gender\"] = LabelEncoder().fit_transform(data.Gender)"
   ]
  },
  {
   "cell_type": "code",
   "execution_count": 7,
   "id": "general-sperm",
   "metadata": {},
   "outputs": [
    {
     "data": {
      "text/html": [
       "<div>\n",
       "<style scoped>\n",
       "    .dataframe tbody tr th:only-of-type {\n",
       "        vertical-align: middle;\n",
       "    }\n",
       "\n",
       "    .dataframe tbody tr th {\n",
       "        vertical-align: top;\n",
       "    }\n",
       "\n",
       "    .dataframe thead th {\n",
       "        text-align: right;\n",
       "    }\n",
       "</style>\n",
       "<table border=\"1\" class=\"dataframe\">\n",
       "  <thead>\n",
       "    <tr style=\"text-align: right;\">\n",
       "      <th></th>\n",
       "      <th>Gender</th>\n",
       "      <th>Height</th>\n",
       "      <th>Weight</th>\n",
       "      <th>Index</th>\n",
       "    </tr>\n",
       "  </thead>\n",
       "  <tbody>\n",
       "    <tr>\n",
       "      <th>0</th>\n",
       "      <td>1</td>\n",
       "      <td>174</td>\n",
       "      <td>96</td>\n",
       "      <td>4</td>\n",
       "    </tr>\n",
       "    <tr>\n",
       "      <th>1</th>\n",
       "      <td>1</td>\n",
       "      <td>189</td>\n",
       "      <td>87</td>\n",
       "      <td>2</td>\n",
       "    </tr>\n",
       "    <tr>\n",
       "      <th>2</th>\n",
       "      <td>0</td>\n",
       "      <td>185</td>\n",
       "      <td>110</td>\n",
       "      <td>4</td>\n",
       "    </tr>\n",
       "    <tr>\n",
       "      <th>3</th>\n",
       "      <td>0</td>\n",
       "      <td>195</td>\n",
       "      <td>104</td>\n",
       "      <td>3</td>\n",
       "    </tr>\n",
       "    <tr>\n",
       "      <th>4</th>\n",
       "      <td>1</td>\n",
       "      <td>149</td>\n",
       "      <td>61</td>\n",
       "      <td>3</td>\n",
       "    </tr>\n",
       "  </tbody>\n",
       "</table>\n",
       "</div>"
      ],
      "text/plain": [
       "   Gender  Height  Weight  Index\n",
       "0       1     174      96      4\n",
       "1       1     189      87      2\n",
       "2       0     185     110      4\n",
       "3       0     195     104      3\n",
       "4       1     149      61      3"
      ]
     },
     "execution_count": 7,
     "metadata": {},
     "output_type": "execute_result"
    }
   ],
   "source": [
    "data.head()"
   ]
  },
  {
   "cell_type": "code",
   "execution_count": 8,
   "id": "standing-monte",
   "metadata": {},
   "outputs": [
    {
     "data": {
      "text/plain": [
       "Gender    False\n",
       "Height    False\n",
       "Weight    False\n",
       "Index     False\n",
       "dtype: bool"
      ]
     },
     "execution_count": 8,
     "metadata": {},
     "output_type": "execute_result"
    }
   ],
   "source": [
    "data.isna().any()"
   ]
  },
  {
   "cell_type": "code",
   "execution_count": 9,
   "id": "experimental-lunch",
   "metadata": {},
   "outputs": [],
   "source": [
    "from sklearn.linear_model import LogisticRegression\n",
    "from sklearn.neighbors import KNeighborsClassifier\n",
    "from sklearn.ensemble import RandomForestClassifier\n",
    "from sklearn.naive_bayes import GaussianNB\n",
    "from sklearn.tree import DecisionTreeClassifier\n",
    "from sklearn.svm import SVC\n",
    "\n",
    "from sklearn.model_selection import cross_val_score"
   ]
  },
  {
   "cell_type": "code",
   "execution_count": 10,
   "id": "chronic-navigation",
   "metadata": {},
   "outputs": [],
   "source": [
    "from sklearn.model_selection import train_test_split\n",
    "\n",
    "x = data.drop(\"Index\", axis=1)\n",
    "y = data.Index\n",
    "\n",
    "x_train, x_test, y_train, y_test = train_test_split(x, y, test_size=0.2, random_state=42)"
   ]
  },
  {
   "cell_type": "code",
   "execution_count": 11,
   "id": "early-screen",
   "metadata": {},
   "outputs": [],
   "source": [
    "clf = [('NB ', GaussianNB()),\n",
    "       ('LogReg ', LogisticRegression()),\n",
    "       ('DT ', DecisionTreeClassifier()),\n",
    "       ('KNN ', KNeighborsClassifier()),\n",
    "       ('SVC', SVC()),\n",
    "       ('RFC', RandomForestClassifier())]"
   ]
  },
  {
   "cell_type": "code",
   "execution_count": 12,
   "id": "developing-clause",
   "metadata": {},
   "outputs": [
    {
     "name": "stdout",
     "output_type": "stream",
     "text": [
      "[5 2 4 4 4 5 5 5 3 5 4 5 2 5 5 2 5 5 4 5 2 5 1 4 4 5 5 5 5 2 5 5 4 4 4 2 5\n",
      " 2 2 3 5 1 4 3 5 3 4 2 4 4 3 4 2 1 5 3 4 5 5 5 5 5 5 3 0 3 3 4 2 2 2 5 3 2\n",
      " 5 5 5 4 2 5 5 4 2 5 4 5 2 5 5 2 1 2 5 2 5 2 5 5 1 5] : Accuracy for  NB   =  0.76\n",
      "[4 2 4 4 5 5 5 5 3 5 4 4 2 5 5 2 5 5 3 5 2 5 2 4 4 5 5 5 4 2 5 5 4 4 4 2 5\n",
      " 1 3 2 5 2 4 3 5 4 4 3 4 4 4 4 2 1 5 3 3 5 5 4 4 5 5 4 0 2 3 4 2 2 1 4 2 3\n",
      " 5 5 5 5 2 5 5 4 2 5 4 5 3 4 5 2 1 2 5 3 5 2 5 5 2 5] : Accuracy for  LogReg   =  0.78\n",
      "[5 2 3 3 5 5 5 5 4 5 4 5 2 5 5 3 5 5 3 5 0 5 1 4 4 5 5 5 5 2 4 5 4 4 4 2 5\n",
      " 2 4 2 5 2 4 3 5 4 3 4 4 4 5 5 2 1 5 3 3 5 5 4 5 5 4 5 0 2 2 4 2 2 2 5 2 4\n",
      " 5 5 5 4 2 5 5 3 2 5 4 5 3 5 4 2 1 2 5 4 5 2 5 4 1 5] : Accuracy for  DT   =  0.87\n",
      "[5 2 4 4 4 5 5 5 4 5 4 5 2 5 5 3 5 5 3 5 2 5 1 4 4 5 5 5 5 2 4 5 4 4 4 2 5\n",
      " 2 4 2 5 1 4 3 5 4 4 4 4 4 4 4 2 1 5 3 3 5 5 4 5 5 5 5 0 2 3 4 2 2 2 4 2 3\n",
      " 5 5 5 4 2 5 5 3 2 5 4 5 3 5 4 3 1 2 5 4 5 2 5 5 1 5] : Accuracy for  KNN   =  0.92\n",
      "[4 2 4 4 4 5 5 5 3 5 4 5 2 5 5 2 5 5 3 5 2 5 2 4 4 5 5 5 5 2 4 5 4 4 4 2 5\n",
      " 2 2 2 5 2 4 3 5 4 4 3 4 4 4 4 2 2 5 3 3 5 5 4 5 5 5 4 2 2 3 4 2 2 2 4 2 3\n",
      " 5 5 5 4 2 5 5 3 2 5 4 5 3 5 5 2 2 2 5 2 5 2 5 5 2 5] : Accuracy for  SVC  =  0.85\n",
      "[5 2 3 4 4 5 5 5 4 5 4 5 1 5 5 2 5 5 3 5 2 5 1 4 4 5 5 5 5 2 5 5 4 4 4 2 5\n",
      " 2 4 2 5 1 4 3 5 4 3 4 4 4 5 4 2 1 5 3 3 5 5 4 5 5 4 5 0 2 4 4 2 2 2 5 2 4\n",
      " 5 5 5 4 3 5 5 3 2 5 4 5 3 5 4 3 1 2 5 4 5 2 5 5 1 5] : Accuracy for  RFC  =  0.87\n"
     ]
    }
   ],
   "source": [
    "res = []\n",
    "for i, j in clf:\n",
    "  j.fit(x_train, y_train)\n",
    "  y_pred = j.predict(x_test)\n",
    "  print(y_pred, ': Accuracy for ',i, ' = ', j.score(x_test, y_test))\n",
    "  res.append(j.score(x_test, y_test))"
   ]
  },
  {
   "cell_type": "code",
   "execution_count": 13,
   "id": "fifth-metabolism",
   "metadata": {},
   "outputs": [],
   "source": [
    "def score(clf, x, y):\n",
    "    sc = []\n",
    "    for i, j in clf:\n",
    "        a = cross_val_score(j,x,y, cv=5, n_jobs=1)\n",
    "        print(a)\n",
    "        print(f\"Mean {i} = {np.mean(a)}\\n\")\n",
    "        "
   ]
  },
  {
   "cell_type": "code",
   "execution_count": 14,
   "id": "available-spencer",
   "metadata": {},
   "outputs": [
    {
     "name": "stdout",
     "output_type": "stream",
     "text": [
      "[0.65 0.73 0.67 0.71 0.75]\n",
      "Mean NB  = 0.702\n",
      "\n",
      "[0.73 0.71 0.77 0.76 0.76]\n",
      "Mean LogReg  = 0.7459999999999999\n",
      "\n",
      "[0.89 0.88 0.82 0.82 0.86]\n",
      "Mean DT  = 0.8539999999999999\n",
      "\n",
      "[0.94 0.89 0.83 0.89 0.95]\n",
      "Mean KNN  = 0.9\n",
      "\n",
      "[0.79 0.81 0.81 0.79 0.85]\n",
      "Mean SVC = 0.8099999999999999\n",
      "\n",
      "[0.91 0.87 0.85 0.86 0.87]\n",
      "Mean RFC = 0.8719999999999999\n",
      "\n"
     ]
    }
   ],
   "source": [
    "score(clf, x, y)"
   ]
  }
 ],
 "metadata": {
  "kernelspec": {
   "display_name": "Python 3",
   "language": "python",
   "name": "python3"
  },
  "language_info": {
   "codemirror_mode": {
    "name": "ipython",
    "version": 3
   },
   "file_extension": ".py",
   "mimetype": "text/x-python",
   "name": "python",
   "nbconvert_exporter": "python",
   "pygments_lexer": "ipython3",
   "version": "3.9.6"
  }
 },
 "nbformat": 4,
 "nbformat_minor": 5
}
